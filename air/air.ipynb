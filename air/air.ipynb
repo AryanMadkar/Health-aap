{
 "cells": [
  {
   "cell_type": "code",
   "execution_count": 1,
   "metadata": {},
   "outputs": [],
   "source": [
    "import pandas as pd"
   ]
  },
  {
   "cell_type": "code",
   "execution_count": 2,
   "metadata": {},
   "outputs": [],
   "source": [
    "dh = pd.read_csv(r\"F:\\dektop241205\\health_app\\air\\alizimber.csv\", encoding=\"ISO-8859-1\")\n"
   ]
  },
  {
   "cell_type": "code",
   "execution_count": 3,
   "metadata": {},
   "outputs": [
    {
     "data": {
      "text/html": [
       "<div>\n",
       "<style scoped>\n",
       "    .dataframe tbody tr th:only-of-type {\n",
       "        vertical-align: middle;\n",
       "    }\n",
       "\n",
       "    .dataframe tbody tr th {\n",
       "        vertical-align: top;\n",
       "    }\n",
       "\n",
       "    .dataframe thead th {\n",
       "        text-align: right;\n",
       "    }\n",
       "</style>\n",
       "<table border=\"1\" class=\"dataframe\">\n",
       "  <thead>\n",
       "    <tr style=\"text-align: right;\">\n",
       "      <th></th>\n",
       "      <th>Country</th>\n",
       "      <th>Age</th>\n",
       "      <th>Gender</th>\n",
       "      <th>Education Level</th>\n",
       "      <th>BMI</th>\n",
       "      <th>Physical Activity Level</th>\n",
       "      <th>Smoking Status</th>\n",
       "      <th>Alcohol Consumption</th>\n",
       "      <th>Diabetes</th>\n",
       "      <th>Hypertension</th>\n",
       "      <th>Cholesterol Level</th>\n",
       "      <th>Family History of Alzheimerâs</th>\n",
       "      <th>Cognitive Test Score</th>\n",
       "      <th>Depression Level</th>\n",
       "      <th>Sleep Quality</th>\n",
       "      <th>Dietary Habits</th>\n",
       "      <th>Air Pollution Exposure</th>\n",
       "      <th>Employment Status</th>\n",
       "      <th>Marital Status</th>\n",
       "      <th>Genetic Risk Factor (APOE-Îµ4 allele)</th>\n",
       "      <th>Social Engagement Level</th>\n",
       "      <th>Income Level</th>\n",
       "      <th>Stress Levels</th>\n",
       "      <th>Urban vs Rural Living</th>\n",
       "      <th>Alzheimerâs Diagnosis</th>\n",
       "    </tr>\n",
       "  </thead>\n",
       "  <tbody>\n",
       "    <tr>\n",
       "      <th>0</th>\n",
       "      <td>Spain</td>\n",
       "      <td>90</td>\n",
       "      <td>Male</td>\n",
       "      <td>1</td>\n",
       "      <td>33.0</td>\n",
       "      <td>Medium</td>\n",
       "      <td>Never</td>\n",
       "      <td>Occasionally</td>\n",
       "      <td>No</td>\n",
       "      <td>No</td>\n",
       "      <td>Normal</td>\n",
       "      <td>No</td>\n",
       "      <td>90</td>\n",
       "      <td>Low</td>\n",
       "      <td>Poor</td>\n",
       "      <td>Healthy</td>\n",
       "      <td>High</td>\n",
       "      <td>Retired</td>\n",
       "      <td>Single</td>\n",
       "      <td>No</td>\n",
       "      <td>Low</td>\n",
       "      <td>Medium</td>\n",
       "      <td>High</td>\n",
       "      <td>Urban</td>\n",
       "      <td>No</td>\n",
       "    </tr>\n",
       "    <tr>\n",
       "      <th>1</th>\n",
       "      <td>Argentina</td>\n",
       "      <td>72</td>\n",
       "      <td>Male</td>\n",
       "      <td>7</td>\n",
       "      <td>29.9</td>\n",
       "      <td>Medium</td>\n",
       "      <td>Former</td>\n",
       "      <td>Never</td>\n",
       "      <td>No</td>\n",
       "      <td>No</td>\n",
       "      <td>Normal</td>\n",
       "      <td>No</td>\n",
       "      <td>65</td>\n",
       "      <td>Low</td>\n",
       "      <td>Good</td>\n",
       "      <td>Healthy</td>\n",
       "      <td>Medium</td>\n",
       "      <td>Unemployed</td>\n",
       "      <td>Widowed</td>\n",
       "      <td>No</td>\n",
       "      <td>High</td>\n",
       "      <td>Low</td>\n",
       "      <td>High</td>\n",
       "      <td>Urban</td>\n",
       "      <td>No</td>\n",
       "    </tr>\n",
       "    <tr>\n",
       "      <th>2</th>\n",
       "      <td>South Africa</td>\n",
       "      <td>86</td>\n",
       "      <td>Female</td>\n",
       "      <td>19</td>\n",
       "      <td>22.9</td>\n",
       "      <td>High</td>\n",
       "      <td>Current</td>\n",
       "      <td>Occasionally</td>\n",
       "      <td>No</td>\n",
       "      <td>Yes</td>\n",
       "      <td>Normal</td>\n",
       "      <td>No</td>\n",
       "      <td>43</td>\n",
       "      <td>High</td>\n",
       "      <td>Good</td>\n",
       "      <td>Average</td>\n",
       "      <td>Medium</td>\n",
       "      <td>Employed</td>\n",
       "      <td>Single</td>\n",
       "      <td>No</td>\n",
       "      <td>Low</td>\n",
       "      <td>Medium</td>\n",
       "      <td>High</td>\n",
       "      <td>Rural</td>\n",
       "      <td>No</td>\n",
       "    </tr>\n",
       "    <tr>\n",
       "      <th>3</th>\n",
       "      <td>China</td>\n",
       "      <td>53</td>\n",
       "      <td>Male</td>\n",
       "      <td>17</td>\n",
       "      <td>31.2</td>\n",
       "      <td>Low</td>\n",
       "      <td>Never</td>\n",
       "      <td>Regularly</td>\n",
       "      <td>Yes</td>\n",
       "      <td>No</td>\n",
       "      <td>Normal</td>\n",
       "      <td>No</td>\n",
       "      <td>81</td>\n",
       "      <td>Medium</td>\n",
       "      <td>Average</td>\n",
       "      <td>Healthy</td>\n",
       "      <td>Medium</td>\n",
       "      <td>Retired</td>\n",
       "      <td>Single</td>\n",
       "      <td>No</td>\n",
       "      <td>High</td>\n",
       "      <td>Medium</td>\n",
       "      <td>Low</td>\n",
       "      <td>Rural</td>\n",
       "      <td>No</td>\n",
       "    </tr>\n",
       "    <tr>\n",
       "      <th>4</th>\n",
       "      <td>Sweden</td>\n",
       "      <td>58</td>\n",
       "      <td>Female</td>\n",
       "      <td>3</td>\n",
       "      <td>30.0</td>\n",
       "      <td>High</td>\n",
       "      <td>Former</td>\n",
       "      <td>Never</td>\n",
       "      <td>Yes</td>\n",
       "      <td>No</td>\n",
       "      <td>Normal</td>\n",
       "      <td>No</td>\n",
       "      <td>49</td>\n",
       "      <td>High</td>\n",
       "      <td>Poor</td>\n",
       "      <td>Unhealthy</td>\n",
       "      <td>High</td>\n",
       "      <td>Employed</td>\n",
       "      <td>Married</td>\n",
       "      <td>No</td>\n",
       "      <td>Low</td>\n",
       "      <td>Medium</td>\n",
       "      <td>High</td>\n",
       "      <td>Rural</td>\n",
       "      <td>No</td>\n",
       "    </tr>\n",
       "  </tbody>\n",
       "</table>\n",
       "</div>"
      ],
      "text/plain": [
       "        Country  Age  Gender  Education Level   BMI Physical Activity Level Smoking Status Alcohol Consumption Diabetes Hypertension Cholesterol Level Family History of Alzheimerâs  Cognitive Test Score Depression Level Sleep Quality Dietary Habits Air Pollution Exposure Employment Status Marital Status Genetic Risk Factor (APOE-Îµ4 allele) Social Engagement Level Income Level Stress Levels Urban vs Rural Living Alzheimerâs Diagnosis\n",
       "0         Spain   90    Male                1  33.0                  Medium          Never        Occasionally       No           No            Normal                              No                    90              Low          Poor        Healthy                   High           Retired         Single                                    No                     Low       Medium          High                 Urban                      No\n",
       "1     Argentina   72    Male                7  29.9                  Medium         Former               Never       No           No            Normal                              No                    65              Low          Good        Healthy                 Medium        Unemployed        Widowed                                    No                    High          Low          High                 Urban                      No\n",
       "2  South Africa   86  Female               19  22.9                    High        Current        Occasionally       No          Yes            Normal                              No                    43             High          Good        Average                 Medium          Employed         Single                                    No                     Low       Medium          High                 Rural                      No\n",
       "3         China   53    Male               17  31.2                     Low          Never           Regularly      Yes           No            Normal                              No                    81           Medium       Average        Healthy                 Medium           Retired         Single                                    No                    High       Medium           Low                 Rural                      No\n",
       "4        Sweden   58  Female                3  30.0                    High         Former               Never      Yes           No            Normal                              No                    49             High          Poor      Unhealthy                   High          Employed        Married                                    No                     Low       Medium          High                 Rural                      No"
      ]
     },
     "execution_count": 3,
     "metadata": {},
     "output_type": "execute_result"
    }
   ],
   "source": [
    "pd.set_option('display.max_columns', None)  # Show all columns\n",
    "pd.set_option('display.expand_frame_repr', False)  # Prevent column wrapping\n",
    "dh.head()"
   ]
  },
  {
   "cell_type": "code",
   "execution_count": 4,
   "metadata": {},
   "outputs": [
    {
     "name": "stderr",
     "output_type": "stream",
     "text": [
      "C:\\Users\\aryan\\AppData\\Local\\Temp\\ipykernel_6856\\134174247.py:1: FutureWarning: Downcasting behavior in `replace` is deprecated and will be removed in a future version. To retain the old behavior, explicitly call `result.infer_objects(copy=False)`. To opt-in to the future behavior, set `pd.set_option('future.no_silent_downcasting', True)`\n",
      "  dh[\"Family History of Alzheimerâs\"] = dh[\"Family History of Alzheimerâs\"].replace({\"Yes\":1,\"No\":0})\n"
     ]
    }
   ],
   "source": [
    "dh[\"Family History of Alzheimerâs\"] = dh[\"Family History of Alzheimerâs\"].replace({\"Yes\":1,\"No\":0})\n"
   ]
  },
  {
   "cell_type": "code",
   "execution_count": 5,
   "metadata": {},
   "outputs": [
    {
     "name": "stderr",
     "output_type": "stream",
     "text": [
      "C:\\Users\\aryan\\AppData\\Local\\Temp\\ipykernel_6856\\502902793.py:2: FutureWarning: Downcasting behavior in `replace` is deprecated and will be removed in a future version. To retain the old behavior, explicitly call `result.infer_objects(copy=False)`. To opt-in to the future behavior, set `pd.set_option('future.no_silent_downcasting', True)`\n",
      "  dh[\"Urban vs Rural Living\"] = dh[\"Urban vs Rural Living\"].replace({\"Rural\":1,\"Urban\":2})\n"
     ]
    }
   ],
   "source": [
    "dh[\"Urban vs Rural Living\"].value_counts()\n",
    "dh[\"Urban vs Rural Living\"] = dh[\"Urban vs Rural Living\"].replace({\"Rural\":1,\"Urban\":2})"
   ]
  },
  {
   "cell_type": "code",
   "execution_count": 6,
   "metadata": {},
   "outputs": [
    {
     "name": "stderr",
     "output_type": "stream",
     "text": [
      "C:\\Users\\aryan\\AppData\\Local\\Temp\\ipykernel_6856\\423745690.py:2: FutureWarning: Downcasting behavior in `replace` is deprecated and will be removed in a future version. To retain the old behavior, explicitly call `result.infer_objects(copy=False)`. To opt-in to the future behavior, set `pd.set_option('future.no_silent_downcasting', True)`\n",
      "  dh[\"Social Engagement Level\"] = dh[\"Social Engagement Level\"].replace({\"High\":3,\"Medium\":2,\"Low\":1})\n"
     ]
    }
   ],
   "source": [
    "dh[\"Social Engagement Level\"].value_counts()\n",
    "dh[\"Social Engagement Level\"] = dh[\"Social Engagement Level\"].replace({\"High\":3,\"Medium\":2,\"Low\":1})"
   ]
  },
  {
   "cell_type": "code",
   "execution_count": 7,
   "metadata": {},
   "outputs": [
    {
     "name": "stderr",
     "output_type": "stream",
     "text": [
      "C:\\Users\\aryan\\AppData\\Local\\Temp\\ipykernel_6856\\301656883.py:2: FutureWarning: Downcasting behavior in `replace` is deprecated and will be removed in a future version. To retain the old behavior, explicitly call `result.infer_objects(copy=False)`. To opt-in to the future behavior, set `pd.set_option('future.no_silent_downcasting', True)`\n",
      "  dh[\"Income Level\"] = dh[\"Income Level\"].replace({\"High\":3,\"Medium\":2,\"Low\":1})\n"
     ]
    }
   ],
   "source": [
    "dh[\"Income Level\"].value_counts()\n",
    "dh[\"Income Level\"] = dh[\"Income Level\"].replace({\"High\":3,\"Medium\":2,\"Low\":1})"
   ]
  },
  {
   "cell_type": "code",
   "execution_count": 8,
   "metadata": {},
   "outputs": [
    {
     "name": "stderr",
     "output_type": "stream",
     "text": [
      "C:\\Users\\aryan\\AppData\\Local\\Temp\\ipykernel_6856\\277685243.py:2: FutureWarning: Downcasting behavior in `replace` is deprecated and will be removed in a future version. To retain the old behavior, explicitly call `result.infer_objects(copy=False)`. To opt-in to the future behavior, set `pd.set_option('future.no_silent_downcasting', True)`\n",
      "  dh[\"Stress Levels\"] = dh[\"Stress Levels\"].replace({\"High\":3,\"Medium\":2,\"Low\":1})\n"
     ]
    }
   ],
   "source": [
    "dh[\"Stress Levels\" ].value_counts()\n",
    "dh[\"Stress Levels\"] = dh[\"Stress Levels\"].replace({\"High\":3,\"Medium\":2,\"Low\":1})"
   ]
  },
  {
   "cell_type": "code",
   "execution_count": 9,
   "metadata": {},
   "outputs": [
    {
     "name": "stderr",
     "output_type": "stream",
     "text": [
      "C:\\Users\\aryan\\AppData\\Local\\Temp\\ipykernel_6856\\2855669163.py:2: FutureWarning: Downcasting behavior in `replace` is deprecated and will be removed in a future version. To retain the old behavior, explicitly call `result.infer_objects(copy=False)`. To opt-in to the future behavior, set `pd.set_option('future.no_silent_downcasting', True)`\n",
      "  dh[\"Alzheimerâs Diagnosis\"] = dh[\"Alzheimerâs Diagnosis\"].replace({\"Yes\":1,\"No\":0})\n"
     ]
    }
   ],
   "source": [
    "dh[\"Alzheimerâs Diagnosis\" ].value_counts()\n",
    "dh[\"Alzheimerâs Diagnosis\"] = dh[\"Alzheimerâs Diagnosis\"].replace({\"Yes\":1,\"No\":0})"
   ]
  },
  {
   "cell_type": "code",
   "execution_count": 10,
   "metadata": {},
   "outputs": [
    {
     "name": "stderr",
     "output_type": "stream",
     "text": [
      "C:\\Users\\aryan\\AppData\\Local\\Temp\\ipykernel_6856\\4252107682.py:2: FutureWarning: Downcasting behavior in `replace` is deprecated and will be removed in a future version. To retain the old behavior, explicitly call `result.infer_objects(copy=False)`. To opt-in to the future behavior, set `pd.set_option('future.no_silent_downcasting', True)`\n",
      "  dh[\"Genetic Risk Factor (APOE-Îµ4 allele)\"] = dh[\"Genetic Risk Factor (APOE-Îµ4 allele)\"].replace({\"Yes\":1,\"No\":0})\n"
     ]
    }
   ],
   "source": [
    "dh[\"Genetic Risk Factor (APOE-Îµ4 allele)\" ].value_counts()\n",
    "dh[\"Genetic Risk Factor (APOE-Îµ4 allele)\"] = dh[\"Genetic Risk Factor (APOE-Îµ4 allele)\"].replace({\"Yes\":1,\"No\":0})"
   ]
  },
  {
   "cell_type": "code",
   "execution_count": 11,
   "metadata": {},
   "outputs": [
    {
     "name": "stderr",
     "output_type": "stream",
     "text": [
      "C:\\Users\\aryan\\AppData\\Local\\Temp\\ipykernel_6856\\3404072265.py:2: FutureWarning: Downcasting behavior in `replace` is deprecated and will be removed in a future version. To retain the old behavior, explicitly call `result.infer_objects(copy=False)`. To opt-in to the future behavior, set `pd.set_option('future.no_silent_downcasting', True)`\n",
      "  dh[\"Marital Status\" ] = dh[\"Marital Status\" ].replace({\"Married\":3,\"Single\":2,\"Widowed\":1})\n"
     ]
    }
   ],
   "source": [
    "dh[\"Marital Status\" ].value_counts()\n",
    "dh[\"Marital Status\" ] = dh[\"Marital Status\" ].replace({\"Married\":3,\"Single\":2,\"Widowed\":1})\n",
    "\n"
   ]
  },
  {
   "cell_type": "code",
   "execution_count": 12,
   "metadata": {},
   "outputs": [
    {
     "name": "stderr",
     "output_type": "stream",
     "text": [
      "C:\\Users\\aryan\\AppData\\Local\\Temp\\ipykernel_6856\\4224669096.py:2: FutureWarning: Downcasting behavior in `replace` is deprecated and will be removed in a future version. To retain the old behavior, explicitly call `result.infer_objects(copy=False)`. To opt-in to the future behavior, set `pd.set_option('future.no_silent_downcasting', True)`\n",
      "  dh[\"Employment Status\"] = dh[\"Employment Status\"].replace({\"Employed\":3,\"Retired\":2,\"Unemployed\":1})\n"
     ]
    }
   ],
   "source": [
    "dh[\"Employment Status\"].value_counts()\n",
    "dh[\"Employment Status\"] = dh[\"Employment Status\"].replace({\"Employed\":3,\"Retired\":2,\"Unemployed\":1})"
   ]
  },
  {
   "cell_type": "code",
   "execution_count": 13,
   "metadata": {},
   "outputs": [
    {
     "name": "stderr",
     "output_type": "stream",
     "text": [
      "C:\\Users\\aryan\\AppData\\Local\\Temp\\ipykernel_6856\\3265447359.py:2: FutureWarning: Downcasting behavior in `replace` is deprecated and will be removed in a future version. To retain the old behavior, explicitly call `result.infer_objects(copy=False)`. To opt-in to the future behavior, set `pd.set_option('future.no_silent_downcasting', True)`\n",
      "  dh[\"Air Pollution Exposure\"] = dh[\"Air Pollution Exposure\"].replace({\"High\":3,\"Medium\":2,\"Low\":1})\n"
     ]
    }
   ],
   "source": [
    "dh[\"Air Pollution Exposure\" ].value_counts()\n",
    "dh[\"Air Pollution Exposure\"] = dh[\"Air Pollution Exposure\"].replace({\"High\":3,\"Medium\":2,\"Low\":1})"
   ]
  },
  {
   "cell_type": "code",
   "execution_count": 14,
   "metadata": {},
   "outputs": [
    {
     "name": "stderr",
     "output_type": "stream",
     "text": [
      "C:\\Users\\aryan\\AppData\\Local\\Temp\\ipykernel_6856\\2294214126.py:2: FutureWarning: Downcasting behavior in `replace` is deprecated and will be removed in a future version. To retain the old behavior, explicitly call `result.infer_objects(copy=False)`. To opt-in to the future behavior, set `pd.set_option('future.no_silent_downcasting', True)`\n",
      "  dh[\"Dietary Habits\"] = dh[\"Dietary Habits\"].replace({\"Healthy\":3,\"Average\":2,\"Unhealthy\":1})\n"
     ]
    }
   ],
   "source": [
    "dh[\"Dietary Habits\"].value_counts()\n",
    "dh[\"Dietary Habits\"] = dh[\"Dietary Habits\"].replace({\"Healthy\":3,\"Average\":2,\"Unhealthy\":1})"
   ]
  },
  {
   "cell_type": "code",
   "execution_count": 15,
   "metadata": {},
   "outputs": [
    {
     "name": "stderr",
     "output_type": "stream",
     "text": [
      "C:\\Users\\aryan\\AppData\\Local\\Temp\\ipykernel_6856\\1780661717.py:2: FutureWarning: Downcasting behavior in `replace` is deprecated and will be removed in a future version. To retain the old behavior, explicitly call `result.infer_objects(copy=False)`. To opt-in to the future behavior, set `pd.set_option('future.no_silent_downcasting', True)`\n",
      "  dh[\"Sleep Quality\"] = dh[\"Sleep Quality\"].replace({\"Good\":3,\"Average\":2,\"Poor\":1})\n"
     ]
    }
   ],
   "source": [
    "dh[\"Sleep Quality\"].value_counts()\n",
    "dh[\"Sleep Quality\"] = dh[\"Sleep Quality\"].replace({\"Good\":3,\"Average\":2,\"Poor\":1})"
   ]
  },
  {
   "cell_type": "code",
   "execution_count": 16,
   "metadata": {},
   "outputs": [
    {
     "name": "stderr",
     "output_type": "stream",
     "text": [
      "C:\\Users\\aryan\\AppData\\Local\\Temp\\ipykernel_6856\\2275178965.py:2: FutureWarning: Downcasting behavior in `replace` is deprecated and will be removed in a future version. To retain the old behavior, explicitly call `result.infer_objects(copy=False)`. To opt-in to the future behavior, set `pd.set_option('future.no_silent_downcasting', True)`\n",
      "  dh[\"Depression Level\"] = dh[\"Depression Level\"].replace({\"High\":3,\"Medium\":2,\"Low\":1})\n"
     ]
    }
   ],
   "source": [
    "dh[\"Depression Level\"].value_counts()\n",
    "dh[\"Depression Level\"] = dh[\"Depression Level\"].replace({\"High\":3,\"Medium\":2,\"Low\":1})"
   ]
  },
  {
   "cell_type": "code",
   "execution_count": 17,
   "metadata": {},
   "outputs": [
    {
     "name": "stderr",
     "output_type": "stream",
     "text": [
      "C:\\Users\\aryan\\AppData\\Local\\Temp\\ipykernel_6856\\4192500905.py:2: FutureWarning: Downcasting behavior in `replace` is deprecated and will be removed in a future version. To retain the old behavior, explicitly call `result.infer_objects(copy=False)`. To opt-in to the future behavior, set `pd.set_option('future.no_silent_downcasting', True)`\n",
      "  dh[\"Cholesterol Level\"] = dh[\"Cholesterol Level\"].replace({\"High\":1,\"Normal\":0})\n"
     ]
    }
   ],
   "source": [
    "dh[\"Cholesterol Level\"].value_counts()\n",
    "dh[\"Cholesterol Level\"] = dh[\"Cholesterol Level\"].replace({\"High\":1,\"Normal\":0})"
   ]
  },
  {
   "cell_type": "code",
   "execution_count": 18,
   "metadata": {},
   "outputs": [
    {
     "name": "stderr",
     "output_type": "stream",
     "text": [
      "C:\\Users\\aryan\\AppData\\Local\\Temp\\ipykernel_6856\\1711041292.py:2: FutureWarning: Downcasting behavior in `replace` is deprecated and will be removed in a future version. To retain the old behavior, explicitly call `result.infer_objects(copy=False)`. To opt-in to the future behavior, set `pd.set_option('future.no_silent_downcasting', True)`\n",
      "  dh[\"Hypertension\"] = dh[\"Hypertension\"].replace({\"Yes\":1,\"No\":0})\n"
     ]
    }
   ],
   "source": [
    "dh[\"Hypertension\"].value_counts()\n",
    "dh[\"Hypertension\"] = dh[\"Hypertension\"].replace({\"Yes\":1,\"No\":0})"
   ]
  },
  {
   "cell_type": "code",
   "execution_count": 19,
   "metadata": {},
   "outputs": [
    {
     "name": "stderr",
     "output_type": "stream",
     "text": [
      "C:\\Users\\aryan\\AppData\\Local\\Temp\\ipykernel_6856\\1961356485.py:2: FutureWarning: Downcasting behavior in `replace` is deprecated and will be removed in a future version. To retain the old behavior, explicitly call `result.infer_objects(copy=False)`. To opt-in to the future behavior, set `pd.set_option('future.no_silent_downcasting', True)`\n",
      "  dh[\"Diabetes\"] = dh[\"Diabetes\"].replace({\"Yes\":1,\"No\":0})\n"
     ]
    }
   ],
   "source": [
    "dh[\"Diabetes\"].value_counts()\n",
    "dh[\"Diabetes\"] = dh[\"Diabetes\"].replace({\"Yes\":1,\"No\":0})"
   ]
  },
  {
   "cell_type": "code",
   "execution_count": 20,
   "metadata": {},
   "outputs": [
    {
     "name": "stderr",
     "output_type": "stream",
     "text": [
      "C:\\Users\\aryan\\AppData\\Local\\Temp\\ipykernel_6856\\1345287153.py:2: FutureWarning: Downcasting behavior in `replace` is deprecated and will be removed in a future version. To retain the old behavior, explicitly call `result.infer_objects(copy=False)`. To opt-in to the future behavior, set `pd.set_option('future.no_silent_downcasting', True)`\n",
      "  dh[\"Alcohol Consumption\"] = dh[\"Alcohol Consumption\"].replace({\"Never\":1,\"Regularly\":2,\"Occasionally\":3})\n"
     ]
    }
   ],
   "source": [
    "dh[\"Alcohol Consumption\"].value_counts()\n",
    "dh[\"Alcohol Consumption\"] = dh[\"Alcohol Consumption\"].replace({\"Never\":1,\"Regularly\":2,\"Occasionally\":3})"
   ]
  },
  {
   "cell_type": "code",
   "execution_count": 21,
   "metadata": {},
   "outputs": [
    {
     "name": "stderr",
     "output_type": "stream",
     "text": [
      "C:\\Users\\aryan\\AppData\\Local\\Temp\\ipykernel_6856\\619083421.py:2: FutureWarning: Downcasting behavior in `replace` is deprecated and will be removed in a future version. To retain the old behavior, explicitly call `result.infer_objects(copy=False)`. To opt-in to the future behavior, set `pd.set_option('future.no_silent_downcasting', True)`\n",
      "  dh[\"Smoking Status\"] = dh[\"Smoking Status\"].replace({\"Current\":1,\"Never\":2,\"Former\":3})\n"
     ]
    }
   ],
   "source": [
    "dh[\"Smoking Status\"].value_counts()\n",
    "dh[\"Smoking Status\"] = dh[\"Smoking Status\"].replace({\"Current\":1,\"Never\":2,\"Former\":3})"
   ]
  },
  {
   "cell_type": "code",
   "execution_count": 22,
   "metadata": {},
   "outputs": [
    {
     "name": "stderr",
     "output_type": "stream",
     "text": [
      "C:\\Users\\aryan\\AppData\\Local\\Temp\\ipykernel_6856\\472532104.py:2: FutureWarning: Downcasting behavior in `replace` is deprecated and will be removed in a future version. To retain the old behavior, explicitly call `result.infer_objects(copy=False)`. To opt-in to the future behavior, set `pd.set_option('future.no_silent_downcasting', True)`\n",
      "  dh[\"Physical Activity Level\"] = dh[\"Physical Activity Level\"].replace({\"High\":3,\"Medium\":2,\"Low\":1})\n"
     ]
    }
   ],
   "source": [
    "dh[\"Physical Activity Level\"].value_counts()\n",
    "dh[\"Physical Activity Level\"] = dh[\"Physical Activity Level\"].replace({\"High\":3,\"Medium\":2,\"Low\":1})"
   ]
  },
  {
   "cell_type": "code",
   "execution_count": 23,
   "metadata": {},
   "outputs": [
    {
     "name": "stderr",
     "output_type": "stream",
     "text": [
      "C:\\Users\\aryan\\AppData\\Local\\Temp\\ipykernel_6856\\3604633906.py:1: FutureWarning: Downcasting behavior in `replace` is deprecated and will be removed in a future version. To retain the old behavior, explicitly call `result.infer_objects(copy=False)`. To opt-in to the future behavior, set `pd.set_option('future.no_silent_downcasting', True)`\n",
      "  dh[\"Gender\"] = dh[\"Gender\"].replace({\"Male\":1,\"Female\":0})\n"
     ]
    }
   ],
   "source": [
    "dh[\"Gender\"] = dh[\"Gender\"].replace({\"Male\":1,\"Female\":0})"
   ]
  },
  {
   "cell_type": "code",
   "execution_count": 24,
   "metadata": {},
   "outputs": [
    {
     "data": {
      "text/html": [
       "<div>\n",
       "<style scoped>\n",
       "    .dataframe tbody tr th:only-of-type {\n",
       "        vertical-align: middle;\n",
       "    }\n",
       "\n",
       "    .dataframe tbody tr th {\n",
       "        vertical-align: top;\n",
       "    }\n",
       "\n",
       "    .dataframe thead th {\n",
       "        text-align: right;\n",
       "    }\n",
       "</style>\n",
       "<table border=\"1\" class=\"dataframe\">\n",
       "  <thead>\n",
       "    <tr style=\"text-align: right;\">\n",
       "      <th></th>\n",
       "      <th>Country</th>\n",
       "      <th>Age</th>\n",
       "      <th>Gender</th>\n",
       "      <th>Education Level</th>\n",
       "      <th>BMI</th>\n",
       "      <th>Physical Activity Level</th>\n",
       "      <th>Smoking Status</th>\n",
       "      <th>Alcohol Consumption</th>\n",
       "      <th>Diabetes</th>\n",
       "      <th>Hypertension</th>\n",
       "      <th>Cholesterol Level</th>\n",
       "      <th>Family History of Alzheimerâs</th>\n",
       "      <th>Cognitive Test Score</th>\n",
       "      <th>Depression Level</th>\n",
       "      <th>Sleep Quality</th>\n",
       "      <th>Dietary Habits</th>\n",
       "      <th>Air Pollution Exposure</th>\n",
       "      <th>Employment Status</th>\n",
       "      <th>Marital Status</th>\n",
       "      <th>Genetic Risk Factor (APOE-Îµ4 allele)</th>\n",
       "      <th>Social Engagement Level</th>\n",
       "      <th>Income Level</th>\n",
       "      <th>Stress Levels</th>\n",
       "      <th>Urban vs Rural Living</th>\n",
       "      <th>Alzheimerâs Diagnosis</th>\n",
       "    </tr>\n",
       "  </thead>\n",
       "  <tbody>\n",
       "    <tr>\n",
       "      <th>0</th>\n",
       "      <td>Spain</td>\n",
       "      <td>90</td>\n",
       "      <td>1</td>\n",
       "      <td>1</td>\n",
       "      <td>33.0</td>\n",
       "      <td>2</td>\n",
       "      <td>2</td>\n",
       "      <td>3</td>\n",
       "      <td>0</td>\n",
       "      <td>0</td>\n",
       "      <td>0</td>\n",
       "      <td>0</td>\n",
       "      <td>90</td>\n",
       "      <td>1</td>\n",
       "      <td>1</td>\n",
       "      <td>3</td>\n",
       "      <td>3</td>\n",
       "      <td>2</td>\n",
       "      <td>2</td>\n",
       "      <td>0</td>\n",
       "      <td>1</td>\n",
       "      <td>2</td>\n",
       "      <td>3</td>\n",
       "      <td>2</td>\n",
       "      <td>0</td>\n",
       "    </tr>\n",
       "    <tr>\n",
       "      <th>1</th>\n",
       "      <td>Argentina</td>\n",
       "      <td>72</td>\n",
       "      <td>1</td>\n",
       "      <td>7</td>\n",
       "      <td>29.9</td>\n",
       "      <td>2</td>\n",
       "      <td>3</td>\n",
       "      <td>1</td>\n",
       "      <td>0</td>\n",
       "      <td>0</td>\n",
       "      <td>0</td>\n",
       "      <td>0</td>\n",
       "      <td>65</td>\n",
       "      <td>1</td>\n",
       "      <td>3</td>\n",
       "      <td>3</td>\n",
       "      <td>2</td>\n",
       "      <td>1</td>\n",
       "      <td>1</td>\n",
       "      <td>0</td>\n",
       "      <td>3</td>\n",
       "      <td>1</td>\n",
       "      <td>3</td>\n",
       "      <td>2</td>\n",
       "      <td>0</td>\n",
       "    </tr>\n",
       "    <tr>\n",
       "      <th>2</th>\n",
       "      <td>South Africa</td>\n",
       "      <td>86</td>\n",
       "      <td>0</td>\n",
       "      <td>19</td>\n",
       "      <td>22.9</td>\n",
       "      <td>3</td>\n",
       "      <td>1</td>\n",
       "      <td>3</td>\n",
       "      <td>0</td>\n",
       "      <td>1</td>\n",
       "      <td>0</td>\n",
       "      <td>0</td>\n",
       "      <td>43</td>\n",
       "      <td>3</td>\n",
       "      <td>3</td>\n",
       "      <td>2</td>\n",
       "      <td>2</td>\n",
       "      <td>3</td>\n",
       "      <td>2</td>\n",
       "      <td>0</td>\n",
       "      <td>1</td>\n",
       "      <td>2</td>\n",
       "      <td>3</td>\n",
       "      <td>1</td>\n",
       "      <td>0</td>\n",
       "    </tr>\n",
       "    <tr>\n",
       "      <th>3</th>\n",
       "      <td>China</td>\n",
       "      <td>53</td>\n",
       "      <td>1</td>\n",
       "      <td>17</td>\n",
       "      <td>31.2</td>\n",
       "      <td>1</td>\n",
       "      <td>2</td>\n",
       "      <td>2</td>\n",
       "      <td>1</td>\n",
       "      <td>0</td>\n",
       "      <td>0</td>\n",
       "      <td>0</td>\n",
       "      <td>81</td>\n",
       "      <td>2</td>\n",
       "      <td>2</td>\n",
       "      <td>3</td>\n",
       "      <td>2</td>\n",
       "      <td>2</td>\n",
       "      <td>2</td>\n",
       "      <td>0</td>\n",
       "      <td>3</td>\n",
       "      <td>2</td>\n",
       "      <td>1</td>\n",
       "      <td>1</td>\n",
       "      <td>0</td>\n",
       "    </tr>\n",
       "    <tr>\n",
       "      <th>4</th>\n",
       "      <td>Sweden</td>\n",
       "      <td>58</td>\n",
       "      <td>0</td>\n",
       "      <td>3</td>\n",
       "      <td>30.0</td>\n",
       "      <td>3</td>\n",
       "      <td>3</td>\n",
       "      <td>1</td>\n",
       "      <td>1</td>\n",
       "      <td>0</td>\n",
       "      <td>0</td>\n",
       "      <td>0</td>\n",
       "      <td>49</td>\n",
       "      <td>3</td>\n",
       "      <td>1</td>\n",
       "      <td>1</td>\n",
       "      <td>3</td>\n",
       "      <td>3</td>\n",
       "      <td>3</td>\n",
       "      <td>0</td>\n",
       "      <td>1</td>\n",
       "      <td>2</td>\n",
       "      <td>3</td>\n",
       "      <td>1</td>\n",
       "      <td>0</td>\n",
       "    </tr>\n",
       "  </tbody>\n",
       "</table>\n",
       "</div>"
      ],
      "text/plain": [
       "        Country  Age  Gender  Education Level   BMI  Physical Activity Level  Smoking Status  Alcohol Consumption  Diabetes  Hypertension  Cholesterol Level  Family History of Alzheimerâs  Cognitive Test Score  Depression Level  Sleep Quality  Dietary Habits  Air Pollution Exposure  Employment Status  Marital Status  Genetic Risk Factor (APOE-Îµ4 allele)  Social Engagement Level  Income Level  Stress Levels  Urban vs Rural Living  Alzheimerâs Diagnosis\n",
       "0         Spain   90       1                1  33.0                        2               2                    3         0             0                  0                                0                    90                 1              1               3                       3                  2               2                                      0                        1             2              3                      2                        0\n",
       "1     Argentina   72       1                7  29.9                        2               3                    1         0             0                  0                                0                    65                 1              3               3                       2                  1               1                                      0                        3             1              3                      2                        0\n",
       "2  South Africa   86       0               19  22.9                        3               1                    3         0             1                  0                                0                    43                 3              3               2                       2                  3               2                                      0                        1             2              3                      1                        0\n",
       "3         China   53       1               17  31.2                        1               2                    2         1             0                  0                                0                    81                 2              2               3                       2                  2               2                                      0                        3             2              1                      1                        0\n",
       "4        Sweden   58       0                3  30.0                        3               3                    1         1             0                  0                                0                    49                 3              1               1                       3                  3               3                                      0                        1             2              3                      1                        0"
      ]
     },
     "execution_count": 24,
     "metadata": {},
     "output_type": "execute_result"
    }
   ],
   "source": [
    "dh.head()"
   ]
  },
  {
   "cell_type": "code",
   "execution_count": 25,
   "metadata": {},
   "outputs": [],
   "source": [
    "dh = dh.drop(columns=[\"Country\"],axis=1)\n"
   ]
  },
  {
   "cell_type": "code",
   "execution_count": 26,
   "metadata": {},
   "outputs": [],
   "source": [
    "from sklearn.model_selection import train_test_split\n",
    "from sklearn.preprocessing import StandardScaler\n",
    "from sklearn.linear_model import LogisticRegression\n",
    "from sklearn.metrics import accuracy_score\n"
   ]
  },
  {
   "cell_type": "code",
   "execution_count": 27,
   "metadata": {},
   "outputs": [
    {
     "data": {
      "text/html": [
       "<div>\n",
       "<style scoped>\n",
       "    .dataframe tbody tr th:only-of-type {\n",
       "        vertical-align: middle;\n",
       "    }\n",
       "\n",
       "    .dataframe tbody tr th {\n",
       "        vertical-align: top;\n",
       "    }\n",
       "\n",
       "    .dataframe thead th {\n",
       "        text-align: right;\n",
       "    }\n",
       "</style>\n",
       "<table border=\"1\" class=\"dataframe\">\n",
       "  <thead>\n",
       "    <tr style=\"text-align: right;\">\n",
       "      <th></th>\n",
       "      <th>Age</th>\n",
       "      <th>Gender</th>\n",
       "      <th>Education Level</th>\n",
       "      <th>BMI</th>\n",
       "      <th>Physical Activity Level</th>\n",
       "      <th>Smoking Status</th>\n",
       "      <th>Alcohol Consumption</th>\n",
       "      <th>Diabetes</th>\n",
       "      <th>Hypertension</th>\n",
       "      <th>Cholesterol Level</th>\n",
       "      <th>Family History of Alzheimerâs</th>\n",
       "      <th>Cognitive Test Score</th>\n",
       "      <th>Depression Level</th>\n",
       "      <th>Sleep Quality</th>\n",
       "      <th>Dietary Habits</th>\n",
       "      <th>Air Pollution Exposure</th>\n",
       "      <th>Employment Status</th>\n",
       "      <th>Marital Status</th>\n",
       "      <th>Genetic Risk Factor (APOE-Îµ4 allele)</th>\n",
       "      <th>Social Engagement Level</th>\n",
       "      <th>Income Level</th>\n",
       "      <th>Stress Levels</th>\n",
       "      <th>Urban vs Rural Living</th>\n",
       "      <th>Alzheimerâs Diagnosis</th>\n",
       "    </tr>\n",
       "  </thead>\n",
       "  <tbody>\n",
       "    <tr>\n",
       "      <th>0</th>\n",
       "      <td>90</td>\n",
       "      <td>1</td>\n",
       "      <td>1</td>\n",
       "      <td>33.0</td>\n",
       "      <td>2</td>\n",
       "      <td>2</td>\n",
       "      <td>3</td>\n",
       "      <td>0</td>\n",
       "      <td>0</td>\n",
       "      <td>0</td>\n",
       "      <td>0</td>\n",
       "      <td>90</td>\n",
       "      <td>1</td>\n",
       "      <td>1</td>\n",
       "      <td>3</td>\n",
       "      <td>3</td>\n",
       "      <td>2</td>\n",
       "      <td>2</td>\n",
       "      <td>0</td>\n",
       "      <td>1</td>\n",
       "      <td>2</td>\n",
       "      <td>3</td>\n",
       "      <td>2</td>\n",
       "      <td>0</td>\n",
       "    </tr>\n",
       "    <tr>\n",
       "      <th>1</th>\n",
       "      <td>72</td>\n",
       "      <td>1</td>\n",
       "      <td>7</td>\n",
       "      <td>29.9</td>\n",
       "      <td>2</td>\n",
       "      <td>3</td>\n",
       "      <td>1</td>\n",
       "      <td>0</td>\n",
       "      <td>0</td>\n",
       "      <td>0</td>\n",
       "      <td>0</td>\n",
       "      <td>65</td>\n",
       "      <td>1</td>\n",
       "      <td>3</td>\n",
       "      <td>3</td>\n",
       "      <td>2</td>\n",
       "      <td>1</td>\n",
       "      <td>1</td>\n",
       "      <td>0</td>\n",
       "      <td>3</td>\n",
       "      <td>1</td>\n",
       "      <td>3</td>\n",
       "      <td>2</td>\n",
       "      <td>0</td>\n",
       "    </tr>\n",
       "    <tr>\n",
       "      <th>2</th>\n",
       "      <td>86</td>\n",
       "      <td>0</td>\n",
       "      <td>19</td>\n",
       "      <td>22.9</td>\n",
       "      <td>3</td>\n",
       "      <td>1</td>\n",
       "      <td>3</td>\n",
       "      <td>0</td>\n",
       "      <td>1</td>\n",
       "      <td>0</td>\n",
       "      <td>0</td>\n",
       "      <td>43</td>\n",
       "      <td>3</td>\n",
       "      <td>3</td>\n",
       "      <td>2</td>\n",
       "      <td>2</td>\n",
       "      <td>3</td>\n",
       "      <td>2</td>\n",
       "      <td>0</td>\n",
       "      <td>1</td>\n",
       "      <td>2</td>\n",
       "      <td>3</td>\n",
       "      <td>1</td>\n",
       "      <td>0</td>\n",
       "    </tr>\n",
       "    <tr>\n",
       "      <th>3</th>\n",
       "      <td>53</td>\n",
       "      <td>1</td>\n",
       "      <td>17</td>\n",
       "      <td>31.2</td>\n",
       "      <td>1</td>\n",
       "      <td>2</td>\n",
       "      <td>2</td>\n",
       "      <td>1</td>\n",
       "      <td>0</td>\n",
       "      <td>0</td>\n",
       "      <td>0</td>\n",
       "      <td>81</td>\n",
       "      <td>2</td>\n",
       "      <td>2</td>\n",
       "      <td>3</td>\n",
       "      <td>2</td>\n",
       "      <td>2</td>\n",
       "      <td>2</td>\n",
       "      <td>0</td>\n",
       "      <td>3</td>\n",
       "      <td>2</td>\n",
       "      <td>1</td>\n",
       "      <td>1</td>\n",
       "      <td>0</td>\n",
       "    </tr>\n",
       "    <tr>\n",
       "      <th>4</th>\n",
       "      <td>58</td>\n",
       "      <td>0</td>\n",
       "      <td>3</td>\n",
       "      <td>30.0</td>\n",
       "      <td>3</td>\n",
       "      <td>3</td>\n",
       "      <td>1</td>\n",
       "      <td>1</td>\n",
       "      <td>0</td>\n",
       "      <td>0</td>\n",
       "      <td>0</td>\n",
       "      <td>49</td>\n",
       "      <td>3</td>\n",
       "      <td>1</td>\n",
       "      <td>1</td>\n",
       "      <td>3</td>\n",
       "      <td>3</td>\n",
       "      <td>3</td>\n",
       "      <td>0</td>\n",
       "      <td>1</td>\n",
       "      <td>2</td>\n",
       "      <td>3</td>\n",
       "      <td>1</td>\n",
       "      <td>0</td>\n",
       "    </tr>\n",
       "  </tbody>\n",
       "</table>\n",
       "</div>"
      ],
      "text/plain": [
       "   Age  Gender  Education Level   BMI  Physical Activity Level  Smoking Status  Alcohol Consumption  Diabetes  Hypertension  Cholesterol Level  Family History of Alzheimerâs  Cognitive Test Score  Depression Level  Sleep Quality  Dietary Habits  Air Pollution Exposure  Employment Status  Marital Status  Genetic Risk Factor (APOE-Îµ4 allele)  Social Engagement Level  Income Level  Stress Levels  Urban vs Rural Living  Alzheimerâs Diagnosis\n",
       "0   90       1                1  33.0                        2               2                    3         0             0                  0                                0                    90                 1              1               3                       3                  2               2                                      0                        1             2              3                      2                        0\n",
       "1   72       1                7  29.9                        2               3                    1         0             0                  0                                0                    65                 1              3               3                       2                  1               1                                      0                        3             1              3                      2                        0\n",
       "2   86       0               19  22.9                        3               1                    3         0             1                  0                                0                    43                 3              3               2                       2                  3               2                                      0                        1             2              3                      1                        0\n",
       "3   53       1               17  31.2                        1               2                    2         1             0                  0                                0                    81                 2              2               3                       2                  2               2                                      0                        3             2              1                      1                        0\n",
       "4   58       0                3  30.0                        3               3                    1         1             0                  0                                0                    49                 3              1               1                       3                  3               3                                      0                        1             2              3                      1                        0"
      ]
     },
     "execution_count": 27,
     "metadata": {},
     "output_type": "execute_result"
    }
   ],
   "source": [
    "dh.head()"
   ]
  },
  {
   "cell_type": "code",
   "execution_count": 28,
   "metadata": {},
   "outputs": [
    {
     "ename": "ModuleNotFoundError",
     "evalue": "No module named 'imblearn'",
     "output_type": "error",
     "traceback": [
      "\u001b[1;31m---------------------------------------------------------------------------\u001b[0m",
      "\u001b[1;31mModuleNotFoundError\u001b[0m                       Traceback (most recent call last)",
      "Cell \u001b[1;32mIn[28], line 3\u001b[0m\n\u001b[0;32m      1\u001b[0m x \u001b[38;5;241m=\u001b[39m dh\u001b[38;5;241m.\u001b[39mdrop(columns\u001b[38;5;241m=\u001b[39m\u001b[38;5;124m\"\u001b[39m\u001b[38;5;124mAlzheimerâs Diagnosis\u001b[39m\u001b[38;5;124m\"\u001b[39m,axis\u001b[38;5;241m=\u001b[39m\u001b[38;5;241m1\u001b[39m)\n\u001b[0;32m      2\u001b[0m y \u001b[38;5;241m=\u001b[39m dh[\u001b[38;5;124m\"\u001b[39m\u001b[38;5;124mAlzheimerâs Diagnosis\u001b[39m\u001b[38;5;124m\"\u001b[39m]\n\u001b[1;32m----> 3\u001b[0m \u001b[38;5;28;01mfrom\u001b[39;00m\u001b[38;5;250m \u001b[39m\u001b[38;5;21;01mimblearn\u001b[39;00m\u001b[38;5;21;01m.\u001b[39;00m\u001b[38;5;21;01mover_sampling\u001b[39;00m\u001b[38;5;250m \u001b[39m\u001b[38;5;28;01mimport\u001b[39;00m SMOTE\n\u001b[0;32m      5\u001b[0m smote \u001b[38;5;241m=\u001b[39m SMOTE()\n\u001b[0;32m      6\u001b[0m X_resampled, y_resampled \u001b[38;5;241m=\u001b[39m smote\u001b[38;5;241m.\u001b[39mfit_resample(x, y)\n",
      "\u001b[1;31mModuleNotFoundError\u001b[0m: No module named 'imblearn'"
     ]
    }
   ],
   "source": [
    "x = dh.drop(columns=\"Alzheimerâs Diagnosis\",axis=1)\n",
    "y = dh[\"Alzheimerâs Diagnosis\"]\n",
    "from imblearn.over_sampling import SMOTE\n",
    "\n",
    "smote = SMOTE()\n",
    "X_resampled, y_resampled = smote.fit_resample(x, y)\n",
    "\n",
    "scalar = StandardScaler()\n",
    "x = scalar.fit_transform(X_resampled)\n",
    "y = y_resampled\n"
   ]
  },
  {
   "cell_type": "code",
   "execution_count": null,
   "metadata": {},
   "outputs": [],
   "source": [
    "\n",
    "\n",
    "# randomstate = 0\n",
    "# best_score = float('-inf')  # Use -inf to ensure the first score is higher\n",
    "# for randomstate in range(1, 1001):\n",
    "#     x_train, x_test, y_train, y_test = train_test_split(\n",
    "#         x, y, test_size=0.2, random_state=randomstate, stratify=y\n",
    "#     )\n",
    "#     clasifirer = LogisticRegression()\n",
    "#     clasifirer.fit(x_train, y_train)\n",
    "#     predictions = clasifirer.predict(x_test)\n",
    "#     score = accuracy_score(y_test, predictions) # Use R² Score for regression\n",
    "\n",
    "#     if score > best_score:\n",
    "#             best_score = score\n",
    "#             best_randomstate = randomstate\n",
    "\n",
    "# print(f\"Best random state: {best_randomstate}\")\n",
    "# print(f\"Best R² score: {best_score}\")\n",
    "\n",
    "# Best random state: 17\n",
    "# Best R² score: 0.7235646496600929"
   ]
  },
  {
   "cell_type": "code",
   "execution_count": null,
   "metadata": {},
   "outputs": [],
   "source": [
    "# from sklearn.model_selection import train_test_split\n",
    "# from sklearn.linear_model import  LinearRegression\n",
    "# from sklearn.metrics import r2_score\n",
    "# randomstate = 0\n",
    "# best_score = float('-inf')  # Use -inf to ensure the first score is higher\n",
    "# for randomstate in range(1, 1001):\n",
    "#     x_train, x_test, y_train, y_test = train_test_split(\n",
    "#         x, y, test_size=0.2, random_state=randomstate, stratify=y\n",
    "#     )\n",
    "#     clasifirer = LinearRegression()\n",
    "#     clasifirer.fit(x_train, y_train)\n",
    "#     predictions = clasifirer.predict(x_test)\n",
    "#     score = r2_score(y_test, predictions) # Use R² Score for regression\n",
    "\n",
    "#     if score > best_score:\n",
    "#             best_score = score\n",
    "#             best_randomstate = randomstate\n",
    "\n",
    "# print(f\"Best random state: {best_randomstate}\")\n",
    "# print(f\"Best R² score: {best_score}\")\n",
    "# from sklearn.model_selection import train_test_split\n",
    "# from sklearn.linear_model import  LinearRegression\n",
    "# from sklearn.metrics import r2_score\n",
    "# randomstate = 0\n",
    "# best_score = float('-inf')  # Use -inf to ensure the first score is higher\n",
    "# for randomstate in range(1, 1001):\n",
    "#     x_train, x_test, y_train, y_test = train_test_split(\n",
    "#         x, y, test_size=0.2, random_state=randomstate, stratify=y\n",
    "#     )\n",
    "#     clasifirer = LinearRegression()\n",
    "#     clasifirer.fit(x_train, y_train)\n",
    "#     predictions = clasifirer.predict(x_test)\n",
    "#     score = r2_score(y_test, predictions) # Use R² Score for regression\n",
    "\n",
    "#     if score > best_score:\n",
    "#             best_score = score\n",
    "#             best_randomstate = randomstate\n",
    "\n",
    "# print(f\"Best random state: {best_randomstate}\")\n",
    "# print(f\"Best R² score: {best_score}\")\n",
    "# Best random state: 17\n",
    "# Best R² score: 0.2518284301766789"
   ]
  },
  {
   "cell_type": "code",
   "execution_count": null,
   "metadata": {},
   "outputs": [],
   "source": []
  }
 ],
 "metadata": {
  "kernelspec": {
   "display_name": "Python 3",
   "language": "python",
   "name": "python3"
  },
  "language_info": {
   "codemirror_mode": {
    "name": "ipython",
    "version": 3
   },
   "file_extension": ".py",
   "mimetype": "text/x-python",
   "name": "python",
   "nbconvert_exporter": "python",
   "pygments_lexer": "ipython3",
   "version": "3.13.2"
  }
 },
 "nbformat": 4,
 "nbformat_minor": 2
}
