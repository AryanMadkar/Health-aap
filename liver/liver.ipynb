{
 "cells": [
  {
   "cell_type": "code",
   "execution_count": 1,
   "metadata": {},
   "outputs": [],
   "source": [
    "import pandas as pd\n",
    "import numpy as np\n",
    "from sklearn.preprocessing import StandardScaler\n",
    "from sklearn import svm\n",
    "from sklearn.metrics import accuracy_score\n",
    "from sklearn.model_selection import train_test_split  \n"
   ]
  },
  {
   "cell_type": "code",
   "execution_count": 3,
   "metadata": {},
   "outputs": [],
   "source": [
    "dh = pd.read_csv(\"C:/Users/aryan/OneDrive/Desktop/health_app/liver/Liver_disease_data.csv\")"
   ]
  },
  {
   "cell_type": "code",
   "execution_count": 4,
   "metadata": {},
   "outputs": [
    {
     "data": {
      "text/html": [
       "<div>\n",
       "<style scoped>\n",
       "    .dataframe tbody tr th:only-of-type {\n",
       "        vertical-align: middle;\n",
       "    }\n",
       "\n",
       "    .dataframe tbody tr th {\n",
       "        vertical-align: top;\n",
       "    }\n",
       "\n",
       "    .dataframe thead th {\n",
       "        text-align: right;\n",
       "    }\n",
       "</style>\n",
       "<table border=\"1\" class=\"dataframe\">\n",
       "  <thead>\n",
       "    <tr style=\"text-align: right;\">\n",
       "      <th></th>\n",
       "      <th>Age</th>\n",
       "      <th>Gender</th>\n",
       "      <th>BMI</th>\n",
       "      <th>AlcoholConsumption</th>\n",
       "      <th>Smoking</th>\n",
       "      <th>GeneticRisk</th>\n",
       "      <th>PhysicalActivity</th>\n",
       "      <th>Diabetes</th>\n",
       "      <th>Hypertension</th>\n",
       "      <th>LiverFunctionTest</th>\n",
       "      <th>Diagnosis</th>\n",
       "    </tr>\n",
       "  </thead>\n",
       "  <tbody>\n",
       "    <tr>\n",
       "      <th>0</th>\n",
       "      <td>58</td>\n",
       "      <td>0</td>\n",
       "      <td>35.857584</td>\n",
       "      <td>17.272828</td>\n",
       "      <td>0</td>\n",
       "      <td>1</td>\n",
       "      <td>0.658940</td>\n",
       "      <td>0</td>\n",
       "      <td>0</td>\n",
       "      <td>42.734240</td>\n",
       "      <td>1</td>\n",
       "    </tr>\n",
       "    <tr>\n",
       "      <th>1</th>\n",
       "      <td>71</td>\n",
       "      <td>1</td>\n",
       "      <td>30.732470</td>\n",
       "      <td>2.201266</td>\n",
       "      <td>0</td>\n",
       "      <td>1</td>\n",
       "      <td>1.670557</td>\n",
       "      <td>1</td>\n",
       "      <td>0</td>\n",
       "      <td>67.309822</td>\n",
       "      <td>1</td>\n",
       "    </tr>\n",
       "    <tr>\n",
       "      <th>2</th>\n",
       "      <td>48</td>\n",
       "      <td>0</td>\n",
       "      <td>19.971407</td>\n",
       "      <td>18.500944</td>\n",
       "      <td>0</td>\n",
       "      <td>0</td>\n",
       "      <td>9.928308</td>\n",
       "      <td>0</td>\n",
       "      <td>0</td>\n",
       "      <td>63.738956</td>\n",
       "      <td>0</td>\n",
       "    </tr>\n",
       "    <tr>\n",
       "      <th>3</th>\n",
       "      <td>34</td>\n",
       "      <td>1</td>\n",
       "      <td>16.615417</td>\n",
       "      <td>12.632870</td>\n",
       "      <td>0</td>\n",
       "      <td>0</td>\n",
       "      <td>5.630129</td>\n",
       "      <td>0</td>\n",
       "      <td>0</td>\n",
       "      <td>64.555873</td>\n",
       "      <td>1</td>\n",
       "    </tr>\n",
       "    <tr>\n",
       "      <th>4</th>\n",
       "      <td>62</td>\n",
       "      <td>1</td>\n",
       "      <td>16.065830</td>\n",
       "      <td>1.087815</td>\n",
       "      <td>0</td>\n",
       "      <td>1</td>\n",
       "      <td>3.566218</td>\n",
       "      <td>1</td>\n",
       "      <td>0</td>\n",
       "      <td>77.868689</td>\n",
       "      <td>1</td>\n",
       "    </tr>\n",
       "  </tbody>\n",
       "</table>\n",
       "</div>"
      ],
      "text/plain": [
       "   Age  Gender        BMI  AlcoholConsumption  Smoking  GeneticRisk  \\\n",
       "0   58       0  35.857584           17.272828        0            1   \n",
       "1   71       1  30.732470            2.201266        0            1   \n",
       "2   48       0  19.971407           18.500944        0            0   \n",
       "3   34       1  16.615417           12.632870        0            0   \n",
       "4   62       1  16.065830            1.087815        0            1   \n",
       "\n",
       "   PhysicalActivity  Diabetes  Hypertension  LiverFunctionTest  Diagnosis  \n",
       "0          0.658940         0             0          42.734240          1  \n",
       "1          1.670557         1             0          67.309822          1  \n",
       "2          9.928308         0             0          63.738956          0  \n",
       "3          5.630129         0             0          64.555873          1  \n",
       "4          3.566218         1             0          77.868689          1  "
      ]
     },
     "execution_count": 4,
     "metadata": {},
     "output_type": "execute_result"
    }
   ],
   "source": [
    "dh.head()"
   ]
  },
  {
   "cell_type": "code",
   "execution_count": 6,
   "metadata": {},
   "outputs": [
    {
     "data": {
      "text/plain": [
       "Age                   0\n",
       "Gender                0\n",
       "BMI                   0\n",
       "AlcoholConsumption    0\n",
       "Smoking               0\n",
       "GeneticRisk           0\n",
       "PhysicalActivity      0\n",
       "Diabetes              0\n",
       "Hypertension          0\n",
       "LiverFunctionTest     0\n",
       "Diagnosis             0\n",
       "dtype: int64"
      ]
     },
     "execution_count": 6,
     "metadata": {},
     "output_type": "execute_result"
    }
   ],
   "source": [
    "dh.isna().sum()"
   ]
  },
  {
   "cell_type": "code",
   "execution_count": 7,
   "metadata": {},
   "outputs": [
    {
     "name": "stdout",
     "output_type": "stream",
     "text": [
      "<class 'pandas.core.frame.DataFrame'>\n",
      "RangeIndex: 1700 entries, 0 to 1699\n",
      "Data columns (total 11 columns):\n",
      " #   Column              Non-Null Count  Dtype  \n",
      "---  ------              --------------  -----  \n",
      " 0   Age                 1700 non-null   int64  \n",
      " 1   Gender              1700 non-null   int64  \n",
      " 2   BMI                 1700 non-null   float64\n",
      " 3   AlcoholConsumption  1700 non-null   float64\n",
      " 4   Smoking             1700 non-null   int64  \n",
      " 5   GeneticRisk         1700 non-null   int64  \n",
      " 6   PhysicalActivity    1700 non-null   float64\n",
      " 7   Diabetes            1700 non-null   int64  \n",
      " 8   Hypertension        1700 non-null   int64  \n",
      " 9   LiverFunctionTest   1700 non-null   float64\n",
      " 10  Diagnosis           1700 non-null   int64  \n",
      "dtypes: float64(4), int64(7)\n",
      "memory usage: 146.2 KB\n"
     ]
    }
   ],
   "source": [
    "dh.info()"
   ]
  },
  {
   "cell_type": "code",
   "execution_count": 8,
   "metadata": {},
   "outputs": [],
   "source": [
    "x = dh.drop(columns=\"Diagnosis\",axis=1)\n",
    "y=dh[\"Diagnosis\"]"
   ]
  },
  {
   "cell_type": "code",
   "execution_count": 10,
   "metadata": {},
   "outputs": [],
   "source": [
    "scalar = StandardScaler()\n",
    "scalar.fit(x)\n",
    "x = scalar.transform(x)"
   ]
  },
  {
   "cell_type": "code",
   "execution_count": 11,
   "metadata": {},
   "outputs": [
    {
     "data": {
      "text/plain": [
       "array([[ 0.43125252, -1.00826949,  1.13172403, ..., -0.40740741,\n",
       "        -0.42780858, -0.74510661],\n",
       "       [ 1.16835081,  0.99179834,  0.42072021, ...,  2.45454545,\n",
       "        -0.42780858,  0.32388506],\n",
       "       [-0.13574615, -1.00826949, -1.07215528, ..., -0.40740741,\n",
       "        -0.42780858,  0.1685591 ],\n",
       "       ...,\n",
       "       [-0.70274483, -1.00826949,  1.53021487, ..., -0.40740741,\n",
       "         2.33749403, -0.16574947],\n",
       "       [ 0.94155134, -1.00826949,  1.12662065, ..., -0.40740741,\n",
       "        -0.42780858, -1.45992716],\n",
       "       [ 1.67864962, -1.00826949, -0.50483872, ..., -0.40740741,\n",
       "         2.33749403,  0.5963169 ]])"
      ]
     },
     "execution_count": 11,
     "metadata": {},
     "output_type": "execute_result"
    }
   ],
   "source": [
    "x"
   ]
  },
  {
   "cell_type": "code",
   "execution_count": 12,
   "metadata": {},
   "outputs": [],
   "source": [
    "randomstate = None\n",
    "best_score = 0"
   ]
  },
  {
   "cell_type": "code",
   "execution_count": 20,
   "metadata": {},
   "outputs": [
    {
     "name": "stdout",
     "output_type": "stream",
     "text": [
      "best random state: 517\n",
      "best score: 0.8823529411764706\n"
     ]
    }
   ],
   "source": [
    "for randomstate in range(1, 1001):\n",
    "    x_train, x_test, y_train, y_test = train_test_split(\n",
    "        x, y, test_size=0.2, stratify=y, random_state=randomstate\n",
    "    )\n",
    "    model = svm.SVC(kernel=\"linear\")\n",
    "    model.fit(x_train, y_train)\n",
    "    x_test_prediction = model.predict(x_test)\n",
    "    score = accuracy_score(x_test_prediction, y_test)\n",
    "    if score > best_score:\n",
    "        best_score = score\n",
    "        best_randomstate = randomstate\n",
    "\n",
    "print(f\"best random state: {best_randomstate}\")\n",
    "\n",
    "print(f\"best score: {best_score}\")"
   ]
  },
  {
   "cell_type": "code",
   "execution_count": 16,
   "metadata": {},
   "outputs": [],
   "source": [
    "from sklearn.linear_model import  LinearRegression\n",
    "from sklearn import metrics\n",
    "from sklearn.linear_model import LogisticRegression"
   ]
  },
  {
   "cell_type": "code",
   "execution_count": 19,
   "metadata": {},
   "outputs": [
    {
     "name": "stdout",
     "output_type": "stream",
     "text": [
      "Best random state: 517\n",
      "Best score: 0.8823529411764706\n"
     ]
    }
   ],
   "source": [
    "from sklearn.model_selection import train_test_split\n",
    "from sklearn.linear_model import LogisticRegression\n",
    "from sklearn import metrics\n",
    "\n",
    "# Define variables\n",
    "best_score = -float('inf')  # Initialize best_score to a very low value\n",
    "best_randomstate = None  # Initialize best_randomstate\n",
    "\n",
    "# Iterate over random states\n",
    "for randomstate in range(1, 1001):\n",
    "    x_train, x_test, y_train, y_test = train_test_split(\n",
    "        x, y, test_size=0.2, stratify=y, random_state=randomstate\n",
    "    )\n",
    "    \n",
    "    # Train the model\n",
    "    model2 = LogisticRegression()\n",
    "    model2.fit(x_train, y_train)\n",
    "    \n",
    "    # Predict on test data\n",
    "    x_test_prediction = model2.predict(x_test)\n",
    "    \n",
    "    # Calculate accuracy score\n",
    "    score = metrics.accuracy_score(y_test, x_test_prediction)\n",
    "    \n",
    "    # Update best score and random state if current score is better\n",
    "    if score > best_score:\n",
    "        best_score = score\n",
    "        best_randomstate = randomstate\n",
    "\n",
    "# Print results\n",
    "print(f\"Best random state: {best_randomstate}\")\n",
    "print(f\"Best score: {best_score}\")\n"
   ]
  },
  {
   "cell_type": "code",
   "execution_count": 21,
   "metadata": {},
   "outputs": [
    {
     "data": {
      "text/html": [
       "<style>#sk-container-id-1 {color: black;}#sk-container-id-1 pre{padding: 0;}#sk-container-id-1 div.sk-toggleable {background-color: white;}#sk-container-id-1 label.sk-toggleable__label {cursor: pointer;display: block;width: 100%;margin-bottom: 0;padding: 0.3em;box-sizing: border-box;text-align: center;}#sk-container-id-1 label.sk-toggleable__label-arrow:before {content: \"▸\";float: left;margin-right: 0.25em;color: #696969;}#sk-container-id-1 label.sk-toggleable__label-arrow:hover:before {color: black;}#sk-container-id-1 div.sk-estimator:hover label.sk-toggleable__label-arrow:before {color: black;}#sk-container-id-1 div.sk-toggleable__content {max-height: 0;max-width: 0;overflow: hidden;text-align: left;background-color: #f0f8ff;}#sk-container-id-1 div.sk-toggleable__content pre {margin: 0.2em;color: black;border-radius: 0.25em;background-color: #f0f8ff;}#sk-container-id-1 input.sk-toggleable__control:checked~div.sk-toggleable__content {max-height: 200px;max-width: 100%;overflow: auto;}#sk-container-id-1 input.sk-toggleable__control:checked~label.sk-toggleable__label-arrow:before {content: \"▾\";}#sk-container-id-1 div.sk-estimator input.sk-toggleable__control:checked~label.sk-toggleable__label {background-color: #d4ebff;}#sk-container-id-1 div.sk-label input.sk-toggleable__control:checked~label.sk-toggleable__label {background-color: #d4ebff;}#sk-container-id-1 input.sk-hidden--visually {border: 0;clip: rect(1px 1px 1px 1px);clip: rect(1px, 1px, 1px, 1px);height: 1px;margin: -1px;overflow: hidden;padding: 0;position: absolute;width: 1px;}#sk-container-id-1 div.sk-estimator {font-family: monospace;background-color: #f0f8ff;border: 1px dotted black;border-radius: 0.25em;box-sizing: border-box;margin-bottom: 0.5em;}#sk-container-id-1 div.sk-estimator:hover {background-color: #d4ebff;}#sk-container-id-1 div.sk-parallel-item::after {content: \"\";width: 100%;border-bottom: 1px solid gray;flex-grow: 1;}#sk-container-id-1 div.sk-label:hover label.sk-toggleable__label {background-color: #d4ebff;}#sk-container-id-1 div.sk-serial::before {content: \"\";position: absolute;border-left: 1px solid gray;box-sizing: border-box;top: 0;bottom: 0;left: 50%;z-index: 0;}#sk-container-id-1 div.sk-serial {display: flex;flex-direction: column;align-items: center;background-color: white;padding-right: 0.2em;padding-left: 0.2em;position: relative;}#sk-container-id-1 div.sk-item {position: relative;z-index: 1;}#sk-container-id-1 div.sk-parallel {display: flex;align-items: stretch;justify-content: center;background-color: white;position: relative;}#sk-container-id-1 div.sk-item::before, #sk-container-id-1 div.sk-parallel-item::before {content: \"\";position: absolute;border-left: 1px solid gray;box-sizing: border-box;top: 0;bottom: 0;left: 50%;z-index: -1;}#sk-container-id-1 div.sk-parallel-item {display: flex;flex-direction: column;z-index: 1;position: relative;background-color: white;}#sk-container-id-1 div.sk-parallel-item:first-child::after {align-self: flex-end;width: 50%;}#sk-container-id-1 div.sk-parallel-item:last-child::after {align-self: flex-start;width: 50%;}#sk-container-id-1 div.sk-parallel-item:only-child::after {width: 0;}#sk-container-id-1 div.sk-dashed-wrapped {border: 1px dashed gray;margin: 0 0.4em 0.5em 0.4em;box-sizing: border-box;padding-bottom: 0.4em;background-color: white;}#sk-container-id-1 div.sk-label label {font-family: monospace;font-weight: bold;display: inline-block;line-height: 1.2em;}#sk-container-id-1 div.sk-label-container {text-align: center;}#sk-container-id-1 div.sk-container {/* jupyter's `normalize.less` sets `[hidden] { display: none; }` but bootstrap.min.css set `[hidden] { display: none !important; }` so we also need the `!important` here to be able to override the default hidden behavior on the sphinx rendered scikit-learn.org. See: https://github.com/scikit-learn/scikit-learn/issues/21755 */display: inline-block !important;position: relative;}#sk-container-id-1 div.sk-text-repr-fallback {display: none;}</style><div id=\"sk-container-id-1\" class=\"sk-top-container\"><div class=\"sk-text-repr-fallback\"><pre>SVC(kernel=&#x27;linear&#x27;)</pre><b>In a Jupyter environment, please rerun this cell to show the HTML representation or trust the notebook. <br />On GitHub, the HTML representation is unable to render, please try loading this page with nbviewer.org.</b></div><div class=\"sk-container\" hidden><div class=\"sk-item\"><div class=\"sk-estimator sk-toggleable\"><input class=\"sk-toggleable__control sk-hidden--visually\" id=\"sk-estimator-id-1\" type=\"checkbox\" checked><label for=\"sk-estimator-id-1\" class=\"sk-toggleable__label sk-toggleable__label-arrow\">SVC</label><div class=\"sk-toggleable__content\"><pre>SVC(kernel=&#x27;linear&#x27;)</pre></div></div></div></div></div>"
      ],
      "text/plain": [
       "SVC(kernel='linear')"
      ]
     },
     "execution_count": 21,
     "metadata": {},
     "output_type": "execute_result"
    }
   ],
   "source": [
    "model = svm.SVC(kernel=\"linear\")\n",
    "model.fit(x_train, y_train)"
   ]
  },
  {
   "cell_type": "code",
   "execution_count": 22,
   "metadata": {},
   "outputs": [],
   "source": [
    "import pickle"
   ]
  },
  {
   "cell_type": "code",
   "execution_count": 23,
   "metadata": {},
   "outputs": [],
   "source": [
    "with open(\"liver.sav\",\"wb\") as f:\n",
    "    pickle.dump(model,f)"
   ]
  },
  {
   "cell_type": "code",
   "execution_count": null,
   "metadata": {},
   "outputs": [],
   "source": []
  }
 ],
 "metadata": {
  "kernelspec": {
   "display_name": "Python 3",
   "language": "python",
   "name": "python3"
  },
  "language_info": {
   "codemirror_mode": {
    "name": "ipython",
    "version": 3
   },
   "file_extension": ".py",
   "mimetype": "text/x-python",
   "name": "python",
   "nbconvert_exporter": "python",
   "pygments_lexer": "ipython3",
   "version": "3.8.0"
  }
 },
 "nbformat": 4,
 "nbformat_minor": 2
}
